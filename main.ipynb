{
 "cells": [
  {
   "cell_type": "code",
   "execution_count": 91,
   "source": [
    "from utils.parse_page import *\n",
    "from utils.parse_speech import *"
   ],
   "outputs": [],
   "metadata": {}
  },
  {
   "cell_type": "code",
   "execution_count": 4,
   "source": [
    "#retrieve_data(1000, 0)"
   ],
   "outputs": [
    {
     "output_type": "execute_result",
     "data": {
      "text/plain": [
       "0"
      ]
     },
     "metadata": {},
     "execution_count": 4
    }
   ],
   "metadata": {}
  },
  {
   "cell_type": "code",
   "execution_count": 9,
   "source": [
    "import pandas as pd\n",
    "results = pd.read_csv(\"results.csv\")\n",
    "results.columns = ['page', 'search result', 'author', 'title','link','transcript']"
   ],
   "outputs": [],
   "metadata": {}
  },
  {
   "cell_type": "code",
   "execution_count": 89,
   "source": [
    "transcript = results['transcript'][0]"
   ],
   "outputs": [],
   "metadata": {}
  },
  {
   "cell_type": "code",
   "execution_count": null,
   "source": [
    "get_president_text(transcript)"
   ],
   "outputs": [],
   "metadata": {}
  },
  {
   "cell_type": "code",
   "execution_count": null,
   "source": [
    "for index, row in results.iterrows():\n",
    "    print(row['transcript'])"
   ],
   "outputs": [],
   "metadata": {}
  },
  {
   "cell_type": "markdown",
   "source": [
    "Some things to keep in mind:\n",
    "\n",
    "1. When processing text, if the voice changes, we need to not parse this. Therefore, should probably when parsing text, expect the first line to say \"MR. PRESIDENT\" followed by a colon, and if any other text is encountered in full caps followed by a colon, ignore all subsequent text until you say \"MR. PRESIDENT\" followed by a colon again\n",
    "\n",
    "2. When processing text, check if text is under paranthesis like (Applause) and remove it\n",
    "\n",
    "3. Going to want to loop over x page numbers and all search results\n",
    "\n",
    "4. Will need to get a better understanding of how the Doc2Vec wants its corpus to look. May need to be one sentence, one label at a time, may be a bunch of sentences, one label at a time\n",
    "\n",
    "5. WILL LIKELY ALSO WANT TO SAVE SOME OF THE TRANSCRIPTS FOR TESTING "
   ],
   "metadata": {}
  },
  {
   "cell_type": "markdown",
   "source": [],
   "metadata": {}
  }
 ],
 "metadata": {
  "orig_nbformat": 4,
  "language_info": {
   "name": "python",
   "version": "3.8.10",
   "mimetype": "text/x-python",
   "codemirror_mode": {
    "name": "ipython",
    "version": 3
   },
   "pygments_lexer": "ipython3",
   "nbconvert_exporter": "python",
   "file_extension": ".py"
  },
  "kernelspec": {
   "name": "python3",
   "display_name": "Python 3.8.10 64-bit ('myenv': conda)"
  },
  "interpreter": {
   "hash": "724783d3aca1aad84a1c36864679666c8034da3023299eea168be587304c189d"
  }
 },
 "nbformat": 4,
 "nbformat_minor": 2
}