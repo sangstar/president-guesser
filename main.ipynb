{
 "cells": [
  {
   "cell_type": "code",
   "execution_count": 1,
   "source": [
    "from utils.parse_page import *"
   ],
   "outputs": [],
   "metadata": {}
  },
  {
   "cell_type": "code",
   "execution_count": 11,
   "source": [
    "page_no = 0\n",
    "search_result = 0"
   ],
   "outputs": [],
   "metadata": {}
  },
  {
   "cell_type": "code",
   "execution_count": 12,
   "source": [
    "current_page = retrieve_search_page(page_no) "
   ],
   "outputs": [],
   "metadata": {}
  },
  {
   "cell_type": "code",
   "execution_count": 13,
   "source": [
    "transcript_url, author = get_author_and_transcript_urls(current_page, search_result)"
   ],
   "outputs": [],
   "metadata": {}
  },
  {
   "cell_type": "code",
   "execution_count": 14,
   "source": [
    "transcript = retrieve_transcript(transcript_url)"
   ],
   "outputs": [],
   "metadata": {}
  },
  {
   "cell_type": "code",
   "execution_count": 15,
   "source": [
    "transcript"
   ],
   "outputs": [
    {
     "output_type": "execute_result",
     "data": {
      "text/plain": [
       "[<p>THE PRESIDENT: My name is Joe Biden. I am Jill Biden's husband. (Laughter.) On behalf of Jill and Kamala and Doug, we welcome you to the National Christmas Tree Lighting.</p>,\n",
       " <p>Thanks to the Interior Secretary, Deb Haaland, for that introduction and her leadership. She has made me look awful good in my judgments. It is wonderful to join you here on your birthday, Madam Secretary. Happy birthday. (Applause.)</p>,\n",
       " <p>Also thanks to the National Parks Service and Foundation that takes such great care of our national parks, and the 1,300 students around the country who created the ornaments that decorate the trees representing our states and our territories.</p>,\n",
       " <p>And a special thanks to tonight's host, LL Cool J. (Applause.) I'll tell you what, man, he looks like he can still play. And I'm not talking about instruments; I'm talking about football or something. The man is -- you know, anyway, I tell you what. (Laughter.)</p>,\n",
       " <p>But tonight's world-renowned performers were just wonderful to sit there and listen to you and hear you and watch you.</p>,\n",
       " <p>Over the course of the past 99 years, Presidents have continued this great America tradition of lighting the National Christmas Tree through war and peace, struggle and progress.</p>,\n",
       " <p>You know, for the evergreen tree -- it reminds us that even in the coldest, darkest days of winter that life and abundance will return.</p>,\n",
       " <p>It's a bright beacon of hope that reminds us of the promise we find in scripture of finding light in the darkness, which is also a very American thing to do -- perhaps the most American of things: to find light. And it's important to continue traditions like this one to remember that simple truth today.</p>,\n",
       " <p>For all those lost during this pandemic, we have also seen how much there is to gain -- the appreciation and gratitude of the gift of time and the light of goodwill that we share as we look out for one another.</p>,\n",
       " <p>Jill and I are especially grateful to our service members and their families and for their sacrifices to our nation.</p>,\n",
       " <p>We also -- we also keep in our hearts those who lost a loved ones because of this virus or any other cruel twist of fate or accident. We pray for them to find strength from sorrow, purpose from pain.</p>,\n",
       " <p>And as we look out across the country with the promise of a new year ahead, we know this:We are a great nation because you –- the American people. You are a good people. And because of you, we will never been more optimistic about the future. You've made me so optimistic I can't -- I tell you what, we're -- we have so much ahead of us.</p>,\n",
       " <p>As we enter this holiday season, in my Catholic faith, I think there's a prayer attributed to St. Francis. It says: Where there is hatred, let there be to sow love; where there is discord, union; where there is doubt, faith; and where there is darkness, light. And that's what we do. That's who we are. That's what the United States of America is all about.</p>,\n",
       " <p>So, Merry Christmas, America. May God bless you all. And may God protect our troops. (Applause.)</p>]"
      ]
     },
     "metadata": {},
     "execution_count": 15
    }
   ],
   "metadata": {}
  },
  {
   "cell_type": "code",
   "execution_count": null,
   "source": [],
   "outputs": [],
   "metadata": {}
  },
  {
   "cell_type": "markdown",
   "source": [
    "Some things to keep in mind:\n",
    "\n",
    "1. When processing text, if the voice changes, we need to not parse this. Therefore, should probably when parsing text, expect the first line to say \"MR. PRESIDENT\" followed by a colon, and if any other text is encountered in full caps followed by a colon, ignore all subsequent text until you say \"MR. PRESIDENT\" followed by a colon again\n",
    "\n",
    "2. When processing text, check if text is under paranthesis like (Applause) and remove it\n",
    "\n",
    "3. Going to want to loop over x page numbers and all search results\n",
    "\n",
    "4. Will need to get a better understanding of how the Doc2Vec wants its corpus to look. May need to be one sentence, one label at a time, may be a bunch of sentences, one label at a time"
   ],
   "metadata": {}
  },
  {
   "cell_type": "markdown",
   "source": [],
   "metadata": {}
  }
 ],
 "metadata": {
  "orig_nbformat": 4,
  "language_info": {
   "name": "python",
   "version": "3.8.10",
   "mimetype": "text/x-python",
   "codemirror_mode": {
    "name": "ipython",
    "version": 3
   },
   "pygments_lexer": "ipython3",
   "nbconvert_exporter": "python",
   "file_extension": ".py"
  },
  "kernelspec": {
   "name": "python3",
   "display_name": "Python 3.8.10 64-bit ('myenv': conda)"
  },
  "interpreter": {
   "hash": "724783d3aca1aad84a1c36864679666c8034da3023299eea168be587304c189d"
  }
 },
 "nbformat": 4,
 "nbformat_minor": 2
}